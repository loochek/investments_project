{
 "cells": [
  {
   "cell_type": "code",
   "execution_count": 1,
   "metadata": {},
   "outputs": [],
   "source": [
    "import numpy as np\n",
    "import pandas as pd\n",
    "\n",
    "QUANTILE_CONST = -1.644854\n",
    "PORTFOLIO_VOLUME = 1000\n",
    "\n",
    "SCALE = 439735 / 78525044"
   ]
  },
  {
   "cell_type": "code",
   "execution_count": 2,
   "metadata": {},
   "outputs": [],
   "source": [
    "df = pd.read_csv('all.csv', parse_dates=['date'])\n",
    "df.sort_values(by='date', ascending=True, inplace=True)\n",
    "\n",
    "train = df[:200].reset_index(drop=True)\n",
    "test = df[200:].reset_index(drop=True)"
   ]
  },
  {
   "cell_type": "code",
   "execution_count": 3,
   "metadata": {},
   "outputs": [],
   "source": [
    "ret = train['mid'][1:].reset_index(drop=True) - train['mid'][:-1].reset_index(drop=True)\n",
    "\n",
    "ret_mean, ret_std = np.mean(ret), np.std(ret)\n",
    "\n",
    "# 95% VaR\n",
    "var = -(QUANTILE_CONST * ret_std + ret_mean)"
   ]
  },
  {
   "cell_type": "code",
   "execution_count": 4,
   "metadata": {},
   "outputs": [],
   "source": [
    "lix_train = np.log10(train['volume'] * train['mid'] * SCALE / (train['max_ask'] - train['min_bid']))\n",
    "\n",
    "# Predict worst LIX with 95% confidence level from historical data\n",
    "lix_mean, lix_std = np.mean(lix_train), np.std(lix_train)\n",
    "\n",
    "lix = QUANTILE_CONST * lix_std + lix_mean\n",
    "\n",
    "# Average price\n",
    "p_mid = train['mid'].mean()\n",
    "\n",
    "# Calculate cost of liquidity\n",
    "col = PORTFOLIO_VOLUME * p_mid * (10 ** -lix) / 2"
   ]
  },
  {
   "cell_type": "code",
   "execution_count": 5,
   "metadata": {},
   "outputs": [
    {
     "data": {
      "text/plain": [
       "15.182898859683553"
      ]
     },
     "execution_count": 5,
     "metadata": {},
     "output_type": "execute_result"
    }
   ],
   "source": [
    "lvar = var + col\n",
    "col"
   ]
  },
  {
   "cell_type": "code",
   "execution_count": 6,
   "metadata": {},
   "outputs": [
    {
     "data": {
      "text/plain": [
       "(12, 0.14634146341463414)"
      ]
     },
     "execution_count": 6,
     "metadata": {},
     "output_type": "execute_result"
    }
   ],
   "source": [
    "ret_test = test['mid'][1:].reset_index(drop=True) - test['mid'][:-1].reset_index(drop=True)\n",
    "\n",
    "def count_exceptions(returns, var):\n",
    "    count = np.count_nonzero(returns < -var)\n",
    "    rate = count / len(returns)\n",
    "    return count, rate\n",
    "\n",
    "count_exceptions(ret_test, lvar)"
   ]
  }
 ],
 "metadata": {
  "kernelspec": {
   "display_name": "Python 3",
   "language": "python",
   "name": "python3"
  },
  "language_info": {
   "codemirror_mode": {
    "name": "ipython",
    "version": 3
   },
   "file_extension": ".py",
   "mimetype": "text/x-python",
   "name": "python",
   "nbconvert_exporter": "python",
   "pygments_lexer": "ipython3",
   "version": "3.11.9"
  }
 },
 "nbformat": 4,
 "nbformat_minor": 2
}
